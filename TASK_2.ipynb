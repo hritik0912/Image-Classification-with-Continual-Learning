{
  "cells": [
    {
      "cell_type": "code",
      "source": [],
      "metadata": {
        "id": "qyKf_WLNXtdP"
      },
      "id": "qyKf_WLNXtdP",
      "execution_count": null,
      "outputs": []
    },
    {
      "cell_type": "code",
      "execution_count": 1,
      "metadata": {
        "colab": {
          "base_uri": "https://localhost:8080/"
        },
        "id": "Bb2PUgGB-W0M",
        "outputId": "e94a107d-ae6a-4fd3-ba41-e2966f60df7f"
      },
      "outputs": [
        {
          "output_type": "stream",
          "name": "stdout",
          "text": [
            "Mounted at /content/gdrive\n"
          ]
        }
      ],
      "source": [
        "from google.colab import drive\n",
        "drive.mount('/content/gdrive')"
      ],
      "id": "Bb2PUgGB-W0M"
    },
    {
      "cell_type": "code",
      "execution_count": 2,
      "metadata": {
        "id": "gTDeTEjC-bdu"
      },
      "outputs": [],
      "source": [
        "import torch\n",
        "import torchvision.transforms as transforms\n",
        "from torch.utils.data import DataLoader, TensorDataset\n",
        "from torchvision import models as torchvision_models\n",
        "import timm\n",
        "from sklearn.metrics import accuracy_score\n",
        "import numpy as np\n",
        "import tarfile"
      ],
      "id": "gTDeTEjC-bdu"
    },
    {
      "cell_type": "code",
      "execution_count": 3,
      "id": "a808156a-1945-41f8-9d26-e93212432f91",
      "metadata": {
        "colab": {
          "base_uri": "https://localhost:8080/"
        },
        "id": "a808156a-1945-41f8-9d26-e93212432f91",
        "outputId": "2d18f2a9-08c9-488f-b369-ac926f41d7e4"
      },
      "outputs": [
        {
          "output_type": "stream",
          "name": "stderr",
          "text": [
            "<ipython-input-3-4f91a56f9da1>:29: UserWarning: To copy construct from a tensor, it is recommended to use sourceTensor.clone().detach() or sourceTensor.clone().detach().requires_grad_(True), rather than torch.tensor(sourceTensor).\n",
            "  targets = torch.tensor(targets, dtype=torch.long).to(device)\n",
            "<ipython-input-3-4f91a56f9da1>:44: UserWarning: The use of `x.T` on tensors of dimension other than 2 to reverse their shape is deprecated and it will throw an error in a future release. Consider `x.mT` to transpose batches of matrices or `x.permute(*torch.arange(x.ndim - 1, -1, -1))` to reverse the dimensions of a tensor. (Triggered internally at ../aten/src/ATen/native/TensorShape.cpp:3683.)\n",
            "  mah_dist = torch.sqrt(diff.T @ cov_matrices[i] @ diff)\n"
          ]
        },
        {
          "output_type": "stream",
          "name": "stdout",
          "text": [
            "Update of model done using Dataset-2\n",
            "Update of model done using Dataset-3\n",
            "Update of model done using Dataset-4\n",
            "Update of model done using Dataset-5\n",
            "Update of model done using Dataset-6\n",
            "Update of model done using Dataset-7\n",
            "Update of model done using Dataset-8\n",
            "Update of model done using Dataset-9\n",
            "Update of model done using Dataset-10\n",
            "Update of model done using Dataset-11\n",
            "Update of model done using Dataset-12\n",
            "Update of model done using Dataset-13\n",
            "Update of model done using Dataset-14\n",
            "Update of model done using Dataset-15\n",
            "Update of model done using Dataset-16\n",
            "Update of model done using Dataset-17\n",
            "Update of model done using Dataset-18\n",
            "Update of model done using Dataset-19\n",
            "Update of model done using Dataset-20\n",
            "Evaluation of model 1 done!\n"
          ]
        },
        {
          "output_type": "stream",
          "name": "stderr",
          "text": [
            "<ipython-input-3-4f91a56f9da1>:29: UserWarning: To copy construct from a tensor, it is recommended to use sourceTensor.clone().detach() or sourceTensor.clone().detach().requires_grad_(True), rather than torch.tensor(sourceTensor).\n",
            "  targets = torch.tensor(targets, dtype=torch.long).to(device)\n",
            "<ipython-input-3-4f91a56f9da1>:29: UserWarning: To copy construct from a tensor, it is recommended to use sourceTensor.clone().detach() or sourceTensor.clone().detach().requires_grad_(True), rather than torch.tensor(sourceTensor).\n",
            "  targets = torch.tensor(targets, dtype=torch.long).to(device)\n"
          ]
        },
        {
          "output_type": "stream",
          "name": "stdout",
          "text": [
            "Evaluation of model 2 done!\n"
          ]
        },
        {
          "output_type": "stream",
          "name": "stderr",
          "text": [
            "<ipython-input-3-4f91a56f9da1>:29: UserWarning: To copy construct from a tensor, it is recommended to use sourceTensor.clone().detach() or sourceTensor.clone().detach().requires_grad_(True), rather than torch.tensor(sourceTensor).\n",
            "  targets = torch.tensor(targets, dtype=torch.long).to(device)\n",
            "<ipython-input-3-4f91a56f9da1>:29: UserWarning: To copy construct from a tensor, it is recommended to use sourceTensor.clone().detach() or sourceTensor.clone().detach().requires_grad_(True), rather than torch.tensor(sourceTensor).\n",
            "  targets = torch.tensor(targets, dtype=torch.long).to(device)\n",
            "<ipython-input-3-4f91a56f9da1>:29: UserWarning: To copy construct from a tensor, it is recommended to use sourceTensor.clone().detach() or sourceTensor.clone().detach().requires_grad_(True), rather than torch.tensor(sourceTensor).\n",
            "  targets = torch.tensor(targets, dtype=torch.long).to(device)\n"
          ]
        },
        {
          "output_type": "stream",
          "name": "stdout",
          "text": [
            "Evaluation of model 3 done!\n"
          ]
        },
        {
          "output_type": "stream",
          "name": "stderr",
          "text": [
            "<ipython-input-3-4f91a56f9da1>:29: UserWarning: To copy construct from a tensor, it is recommended to use sourceTensor.clone().detach() or sourceTensor.clone().detach().requires_grad_(True), rather than torch.tensor(sourceTensor).\n",
            "  targets = torch.tensor(targets, dtype=torch.long).to(device)\n",
            "<ipython-input-3-4f91a56f9da1>:29: UserWarning: To copy construct from a tensor, it is recommended to use sourceTensor.clone().detach() or sourceTensor.clone().detach().requires_grad_(True), rather than torch.tensor(sourceTensor).\n",
            "  targets = torch.tensor(targets, dtype=torch.long).to(device)\n",
            "<ipython-input-3-4f91a56f9da1>:29: UserWarning: To copy construct from a tensor, it is recommended to use sourceTensor.clone().detach() or sourceTensor.clone().detach().requires_grad_(True), rather than torch.tensor(sourceTensor).\n",
            "  targets = torch.tensor(targets, dtype=torch.long).to(device)\n",
            "<ipython-input-3-4f91a56f9da1>:29: UserWarning: To copy construct from a tensor, it is recommended to use sourceTensor.clone().detach() or sourceTensor.clone().detach().requires_grad_(True), rather than torch.tensor(sourceTensor).\n",
            "  targets = torch.tensor(targets, dtype=torch.long).to(device)\n"
          ]
        },
        {
          "output_type": "stream",
          "name": "stdout",
          "text": [
            "Evaluation of model 4 done!\n"
          ]
        },
        {
          "output_type": "stream",
          "name": "stderr",
          "text": [
            "<ipython-input-3-4f91a56f9da1>:29: UserWarning: To copy construct from a tensor, it is recommended to use sourceTensor.clone().detach() or sourceTensor.clone().detach().requires_grad_(True), rather than torch.tensor(sourceTensor).\n",
            "  targets = torch.tensor(targets, dtype=torch.long).to(device)\n",
            "<ipython-input-3-4f91a56f9da1>:29: UserWarning: To copy construct from a tensor, it is recommended to use sourceTensor.clone().detach() or sourceTensor.clone().detach().requires_grad_(True), rather than torch.tensor(sourceTensor).\n",
            "  targets = torch.tensor(targets, dtype=torch.long).to(device)\n",
            "<ipython-input-3-4f91a56f9da1>:29: UserWarning: To copy construct from a tensor, it is recommended to use sourceTensor.clone().detach() or sourceTensor.clone().detach().requires_grad_(True), rather than torch.tensor(sourceTensor).\n",
            "  targets = torch.tensor(targets, dtype=torch.long).to(device)\n",
            "<ipython-input-3-4f91a56f9da1>:29: UserWarning: To copy construct from a tensor, it is recommended to use sourceTensor.clone().detach() or sourceTensor.clone().detach().requires_grad_(True), rather than torch.tensor(sourceTensor).\n",
            "  targets = torch.tensor(targets, dtype=torch.long).to(device)\n",
            "<ipython-input-3-4f91a56f9da1>:29: UserWarning: To copy construct from a tensor, it is recommended to use sourceTensor.clone().detach() or sourceTensor.clone().detach().requires_grad_(True), rather than torch.tensor(sourceTensor).\n",
            "  targets = torch.tensor(targets, dtype=torch.long).to(device)\n"
          ]
        },
        {
          "output_type": "stream",
          "name": "stdout",
          "text": [
            "Evaluation of model 5 done!\n"
          ]
        },
        {
          "output_type": "stream",
          "name": "stderr",
          "text": [
            "<ipython-input-3-4f91a56f9da1>:29: UserWarning: To copy construct from a tensor, it is recommended to use sourceTensor.clone().detach() or sourceTensor.clone().detach().requires_grad_(True), rather than torch.tensor(sourceTensor).\n",
            "  targets = torch.tensor(targets, dtype=torch.long).to(device)\n",
            "<ipython-input-3-4f91a56f9da1>:29: UserWarning: To copy construct from a tensor, it is recommended to use sourceTensor.clone().detach() or sourceTensor.clone().detach().requires_grad_(True), rather than torch.tensor(sourceTensor).\n",
            "  targets = torch.tensor(targets, dtype=torch.long).to(device)\n",
            "<ipython-input-3-4f91a56f9da1>:29: UserWarning: To copy construct from a tensor, it is recommended to use sourceTensor.clone().detach() or sourceTensor.clone().detach().requires_grad_(True), rather than torch.tensor(sourceTensor).\n",
            "  targets = torch.tensor(targets, dtype=torch.long).to(device)\n",
            "<ipython-input-3-4f91a56f9da1>:29: UserWarning: To copy construct from a tensor, it is recommended to use sourceTensor.clone().detach() or sourceTensor.clone().detach().requires_grad_(True), rather than torch.tensor(sourceTensor).\n",
            "  targets = torch.tensor(targets, dtype=torch.long).to(device)\n",
            "<ipython-input-3-4f91a56f9da1>:29: UserWarning: To copy construct from a tensor, it is recommended to use sourceTensor.clone().detach() or sourceTensor.clone().detach().requires_grad_(True), rather than torch.tensor(sourceTensor).\n",
            "  targets = torch.tensor(targets, dtype=torch.long).to(device)\n",
            "<ipython-input-3-4f91a56f9da1>:29: UserWarning: To copy construct from a tensor, it is recommended to use sourceTensor.clone().detach() or sourceTensor.clone().detach().requires_grad_(True), rather than torch.tensor(sourceTensor).\n",
            "  targets = torch.tensor(targets, dtype=torch.long).to(device)\n"
          ]
        },
        {
          "output_type": "stream",
          "name": "stdout",
          "text": [
            "Evaluation of model 6 done!\n"
          ]
        },
        {
          "output_type": "stream",
          "name": "stderr",
          "text": [
            "<ipython-input-3-4f91a56f9da1>:29: UserWarning: To copy construct from a tensor, it is recommended to use sourceTensor.clone().detach() or sourceTensor.clone().detach().requires_grad_(True), rather than torch.tensor(sourceTensor).\n",
            "  targets = torch.tensor(targets, dtype=torch.long).to(device)\n",
            "<ipython-input-3-4f91a56f9da1>:29: UserWarning: To copy construct from a tensor, it is recommended to use sourceTensor.clone().detach() or sourceTensor.clone().detach().requires_grad_(True), rather than torch.tensor(sourceTensor).\n",
            "  targets = torch.tensor(targets, dtype=torch.long).to(device)\n",
            "<ipython-input-3-4f91a56f9da1>:29: UserWarning: To copy construct from a tensor, it is recommended to use sourceTensor.clone().detach() or sourceTensor.clone().detach().requires_grad_(True), rather than torch.tensor(sourceTensor).\n",
            "  targets = torch.tensor(targets, dtype=torch.long).to(device)\n",
            "<ipython-input-3-4f91a56f9da1>:29: UserWarning: To copy construct from a tensor, it is recommended to use sourceTensor.clone().detach() or sourceTensor.clone().detach().requires_grad_(True), rather than torch.tensor(sourceTensor).\n",
            "  targets = torch.tensor(targets, dtype=torch.long).to(device)\n",
            "<ipython-input-3-4f91a56f9da1>:29: UserWarning: To copy construct from a tensor, it is recommended to use sourceTensor.clone().detach() or sourceTensor.clone().detach().requires_grad_(True), rather than torch.tensor(sourceTensor).\n",
            "  targets = torch.tensor(targets, dtype=torch.long).to(device)\n",
            "<ipython-input-3-4f91a56f9da1>:29: UserWarning: To copy construct from a tensor, it is recommended to use sourceTensor.clone().detach() or sourceTensor.clone().detach().requires_grad_(True), rather than torch.tensor(sourceTensor).\n",
            "  targets = torch.tensor(targets, dtype=torch.long).to(device)\n",
            "<ipython-input-3-4f91a56f9da1>:29: UserWarning: To copy construct from a tensor, it is recommended to use sourceTensor.clone().detach() or sourceTensor.clone().detach().requires_grad_(True), rather than torch.tensor(sourceTensor).\n",
            "  targets = torch.tensor(targets, dtype=torch.long).to(device)\n"
          ]
        },
        {
          "output_type": "stream",
          "name": "stdout",
          "text": [
            "Evaluation of model 7 done!\n"
          ]
        },
        {
          "output_type": "stream",
          "name": "stderr",
          "text": [
            "<ipython-input-3-4f91a56f9da1>:29: UserWarning: To copy construct from a tensor, it is recommended to use sourceTensor.clone().detach() or sourceTensor.clone().detach().requires_grad_(True), rather than torch.tensor(sourceTensor).\n",
            "  targets = torch.tensor(targets, dtype=torch.long).to(device)\n",
            "<ipython-input-3-4f91a56f9da1>:29: UserWarning: To copy construct from a tensor, it is recommended to use sourceTensor.clone().detach() or sourceTensor.clone().detach().requires_grad_(True), rather than torch.tensor(sourceTensor).\n",
            "  targets = torch.tensor(targets, dtype=torch.long).to(device)\n",
            "<ipython-input-3-4f91a56f9da1>:29: UserWarning: To copy construct from a tensor, it is recommended to use sourceTensor.clone().detach() or sourceTensor.clone().detach().requires_grad_(True), rather than torch.tensor(sourceTensor).\n",
            "  targets = torch.tensor(targets, dtype=torch.long).to(device)\n",
            "<ipython-input-3-4f91a56f9da1>:29: UserWarning: To copy construct from a tensor, it is recommended to use sourceTensor.clone().detach() or sourceTensor.clone().detach().requires_grad_(True), rather than torch.tensor(sourceTensor).\n",
            "  targets = torch.tensor(targets, dtype=torch.long).to(device)\n",
            "<ipython-input-3-4f91a56f9da1>:29: UserWarning: To copy construct from a tensor, it is recommended to use sourceTensor.clone().detach() or sourceTensor.clone().detach().requires_grad_(True), rather than torch.tensor(sourceTensor).\n",
            "  targets = torch.tensor(targets, dtype=torch.long).to(device)\n",
            "<ipython-input-3-4f91a56f9da1>:29: UserWarning: To copy construct from a tensor, it is recommended to use sourceTensor.clone().detach() or sourceTensor.clone().detach().requires_grad_(True), rather than torch.tensor(sourceTensor).\n",
            "  targets = torch.tensor(targets, dtype=torch.long).to(device)\n",
            "<ipython-input-3-4f91a56f9da1>:29: UserWarning: To copy construct from a tensor, it is recommended to use sourceTensor.clone().detach() or sourceTensor.clone().detach().requires_grad_(True), rather than torch.tensor(sourceTensor).\n",
            "  targets = torch.tensor(targets, dtype=torch.long).to(device)\n",
            "<ipython-input-3-4f91a56f9da1>:29: UserWarning: To copy construct from a tensor, it is recommended to use sourceTensor.clone().detach() or sourceTensor.clone().detach().requires_grad_(True), rather than torch.tensor(sourceTensor).\n",
            "  targets = torch.tensor(targets, dtype=torch.long).to(device)\n"
          ]
        },
        {
          "output_type": "stream",
          "name": "stdout",
          "text": [
            "Evaluation of model 8 done!\n"
          ]
        },
        {
          "output_type": "stream",
          "name": "stderr",
          "text": [
            "<ipython-input-3-4f91a56f9da1>:29: UserWarning: To copy construct from a tensor, it is recommended to use sourceTensor.clone().detach() or sourceTensor.clone().detach().requires_grad_(True), rather than torch.tensor(sourceTensor).\n",
            "  targets = torch.tensor(targets, dtype=torch.long).to(device)\n",
            "<ipython-input-3-4f91a56f9da1>:29: UserWarning: To copy construct from a tensor, it is recommended to use sourceTensor.clone().detach() or sourceTensor.clone().detach().requires_grad_(True), rather than torch.tensor(sourceTensor).\n",
            "  targets = torch.tensor(targets, dtype=torch.long).to(device)\n",
            "<ipython-input-3-4f91a56f9da1>:29: UserWarning: To copy construct from a tensor, it is recommended to use sourceTensor.clone().detach() or sourceTensor.clone().detach().requires_grad_(True), rather than torch.tensor(sourceTensor).\n",
            "  targets = torch.tensor(targets, dtype=torch.long).to(device)\n",
            "<ipython-input-3-4f91a56f9da1>:29: UserWarning: To copy construct from a tensor, it is recommended to use sourceTensor.clone().detach() or sourceTensor.clone().detach().requires_grad_(True), rather than torch.tensor(sourceTensor).\n",
            "  targets = torch.tensor(targets, dtype=torch.long).to(device)\n",
            "<ipython-input-3-4f91a56f9da1>:29: UserWarning: To copy construct from a tensor, it is recommended to use sourceTensor.clone().detach() or sourceTensor.clone().detach().requires_grad_(True), rather than torch.tensor(sourceTensor).\n",
            "  targets = torch.tensor(targets, dtype=torch.long).to(device)\n",
            "<ipython-input-3-4f91a56f9da1>:29: UserWarning: To copy construct from a tensor, it is recommended to use sourceTensor.clone().detach() or sourceTensor.clone().detach().requires_grad_(True), rather than torch.tensor(sourceTensor).\n",
            "  targets = torch.tensor(targets, dtype=torch.long).to(device)\n",
            "<ipython-input-3-4f91a56f9da1>:29: UserWarning: To copy construct from a tensor, it is recommended to use sourceTensor.clone().detach() or sourceTensor.clone().detach().requires_grad_(True), rather than torch.tensor(sourceTensor).\n",
            "  targets = torch.tensor(targets, dtype=torch.long).to(device)\n",
            "<ipython-input-3-4f91a56f9da1>:29: UserWarning: To copy construct from a tensor, it is recommended to use sourceTensor.clone().detach() or sourceTensor.clone().detach().requires_grad_(True), rather than torch.tensor(sourceTensor).\n",
            "  targets = torch.tensor(targets, dtype=torch.long).to(device)\n",
            "<ipython-input-3-4f91a56f9da1>:29: UserWarning: To copy construct from a tensor, it is recommended to use sourceTensor.clone().detach() or sourceTensor.clone().detach().requires_grad_(True), rather than torch.tensor(sourceTensor).\n",
            "  targets = torch.tensor(targets, dtype=torch.long).to(device)\n"
          ]
        },
        {
          "output_type": "stream",
          "name": "stdout",
          "text": [
            "Evaluation of model 9 done!\n"
          ]
        },
        {
          "output_type": "stream",
          "name": "stderr",
          "text": [
            "<ipython-input-3-4f91a56f9da1>:29: UserWarning: To copy construct from a tensor, it is recommended to use sourceTensor.clone().detach() or sourceTensor.clone().detach().requires_grad_(True), rather than torch.tensor(sourceTensor).\n",
            "  targets = torch.tensor(targets, dtype=torch.long).to(device)\n",
            "<ipython-input-3-4f91a56f9da1>:29: UserWarning: To copy construct from a tensor, it is recommended to use sourceTensor.clone().detach() or sourceTensor.clone().detach().requires_grad_(True), rather than torch.tensor(sourceTensor).\n",
            "  targets = torch.tensor(targets, dtype=torch.long).to(device)\n",
            "<ipython-input-3-4f91a56f9da1>:29: UserWarning: To copy construct from a tensor, it is recommended to use sourceTensor.clone().detach() or sourceTensor.clone().detach().requires_grad_(True), rather than torch.tensor(sourceTensor).\n",
            "  targets = torch.tensor(targets, dtype=torch.long).to(device)\n",
            "<ipython-input-3-4f91a56f9da1>:29: UserWarning: To copy construct from a tensor, it is recommended to use sourceTensor.clone().detach() or sourceTensor.clone().detach().requires_grad_(True), rather than torch.tensor(sourceTensor).\n",
            "  targets = torch.tensor(targets, dtype=torch.long).to(device)\n",
            "<ipython-input-3-4f91a56f9da1>:29: UserWarning: To copy construct from a tensor, it is recommended to use sourceTensor.clone().detach() or sourceTensor.clone().detach().requires_grad_(True), rather than torch.tensor(sourceTensor).\n",
            "  targets = torch.tensor(targets, dtype=torch.long).to(device)\n",
            "<ipython-input-3-4f91a56f9da1>:29: UserWarning: To copy construct from a tensor, it is recommended to use sourceTensor.clone().detach() or sourceTensor.clone().detach().requires_grad_(True), rather than torch.tensor(sourceTensor).\n",
            "  targets = torch.tensor(targets, dtype=torch.long).to(device)\n",
            "<ipython-input-3-4f91a56f9da1>:29: UserWarning: To copy construct from a tensor, it is recommended to use sourceTensor.clone().detach() or sourceTensor.clone().detach().requires_grad_(True), rather than torch.tensor(sourceTensor).\n",
            "  targets = torch.tensor(targets, dtype=torch.long).to(device)\n",
            "<ipython-input-3-4f91a56f9da1>:29: UserWarning: To copy construct from a tensor, it is recommended to use sourceTensor.clone().detach() or sourceTensor.clone().detach().requires_grad_(True), rather than torch.tensor(sourceTensor).\n",
            "  targets = torch.tensor(targets, dtype=torch.long).to(device)\n",
            "<ipython-input-3-4f91a56f9da1>:29: UserWarning: To copy construct from a tensor, it is recommended to use sourceTensor.clone().detach() or sourceTensor.clone().detach().requires_grad_(True), rather than torch.tensor(sourceTensor).\n",
            "  targets = torch.tensor(targets, dtype=torch.long).to(device)\n",
            "<ipython-input-3-4f91a56f9da1>:29: UserWarning: To copy construct from a tensor, it is recommended to use sourceTensor.clone().detach() or sourceTensor.clone().detach().requires_grad_(True), rather than torch.tensor(sourceTensor).\n",
            "  targets = torch.tensor(targets, dtype=torch.long).to(device)\n"
          ]
        },
        {
          "output_type": "stream",
          "name": "stdout",
          "text": [
            "Evaluation of model 10 done!\n"
          ]
        },
        {
          "output_type": "stream",
          "name": "stderr",
          "text": [
            "<ipython-input-3-4f91a56f9da1>:29: UserWarning: To copy construct from a tensor, it is recommended to use sourceTensor.clone().detach() or sourceTensor.clone().detach().requires_grad_(True), rather than torch.tensor(sourceTensor).\n",
            "  targets = torch.tensor(targets, dtype=torch.long).to(device)\n",
            "<ipython-input-3-4f91a56f9da1>:29: UserWarning: To copy construct from a tensor, it is recommended to use sourceTensor.clone().detach() or sourceTensor.clone().detach().requires_grad_(True), rather than torch.tensor(sourceTensor).\n",
            "  targets = torch.tensor(targets, dtype=torch.long).to(device)\n",
            "<ipython-input-3-4f91a56f9da1>:29: UserWarning: To copy construct from a tensor, it is recommended to use sourceTensor.clone().detach() or sourceTensor.clone().detach().requires_grad_(True), rather than torch.tensor(sourceTensor).\n",
            "  targets = torch.tensor(targets, dtype=torch.long).to(device)\n",
            "<ipython-input-3-4f91a56f9da1>:29: UserWarning: To copy construct from a tensor, it is recommended to use sourceTensor.clone().detach() or sourceTensor.clone().detach().requires_grad_(True), rather than torch.tensor(sourceTensor).\n",
            "  targets = torch.tensor(targets, dtype=torch.long).to(device)\n",
            "<ipython-input-3-4f91a56f9da1>:29: UserWarning: To copy construct from a tensor, it is recommended to use sourceTensor.clone().detach() or sourceTensor.clone().detach().requires_grad_(True), rather than torch.tensor(sourceTensor).\n",
            "  targets = torch.tensor(targets, dtype=torch.long).to(device)\n",
            "<ipython-input-3-4f91a56f9da1>:29: UserWarning: To copy construct from a tensor, it is recommended to use sourceTensor.clone().detach() or sourceTensor.clone().detach().requires_grad_(True), rather than torch.tensor(sourceTensor).\n",
            "  targets = torch.tensor(targets, dtype=torch.long).to(device)\n",
            "<ipython-input-3-4f91a56f9da1>:29: UserWarning: To copy construct from a tensor, it is recommended to use sourceTensor.clone().detach() or sourceTensor.clone().detach().requires_grad_(True), rather than torch.tensor(sourceTensor).\n",
            "  targets = torch.tensor(targets, dtype=torch.long).to(device)\n",
            "<ipython-input-3-4f91a56f9da1>:29: UserWarning: To copy construct from a tensor, it is recommended to use sourceTensor.clone().detach() or sourceTensor.clone().detach().requires_grad_(True), rather than torch.tensor(sourceTensor).\n",
            "  targets = torch.tensor(targets, dtype=torch.long).to(device)\n",
            "<ipython-input-3-4f91a56f9da1>:29: UserWarning: To copy construct from a tensor, it is recommended to use sourceTensor.clone().detach() or sourceTensor.clone().detach().requires_grad_(True), rather than torch.tensor(sourceTensor).\n",
            "  targets = torch.tensor(targets, dtype=torch.long).to(device)\n",
            "<ipython-input-3-4f91a56f9da1>:29: UserWarning: To copy construct from a tensor, it is recommended to use sourceTensor.clone().detach() or sourceTensor.clone().detach().requires_grad_(True), rather than torch.tensor(sourceTensor).\n",
            "  targets = torch.tensor(targets, dtype=torch.long).to(device)\n",
            "<ipython-input-3-4f91a56f9da1>:29: UserWarning: To copy construct from a tensor, it is recommended to use sourceTensor.clone().detach() or sourceTensor.clone().detach().requires_grad_(True), rather than torch.tensor(sourceTensor).\n",
            "  targets = torch.tensor(targets, dtype=torch.long).to(device)\n"
          ]
        },
        {
          "output_type": "stream",
          "name": "stdout",
          "text": [
            "Evaluation of model 11 done!\n"
          ]
        },
        {
          "output_type": "stream",
          "name": "stderr",
          "text": [
            "<ipython-input-3-4f91a56f9da1>:29: UserWarning: To copy construct from a tensor, it is recommended to use sourceTensor.clone().detach() or sourceTensor.clone().detach().requires_grad_(True), rather than torch.tensor(sourceTensor).\n",
            "  targets = torch.tensor(targets, dtype=torch.long).to(device)\n",
            "<ipython-input-3-4f91a56f9da1>:29: UserWarning: To copy construct from a tensor, it is recommended to use sourceTensor.clone().detach() or sourceTensor.clone().detach().requires_grad_(True), rather than torch.tensor(sourceTensor).\n",
            "  targets = torch.tensor(targets, dtype=torch.long).to(device)\n",
            "<ipython-input-3-4f91a56f9da1>:29: UserWarning: To copy construct from a tensor, it is recommended to use sourceTensor.clone().detach() or sourceTensor.clone().detach().requires_grad_(True), rather than torch.tensor(sourceTensor).\n",
            "  targets = torch.tensor(targets, dtype=torch.long).to(device)\n",
            "<ipython-input-3-4f91a56f9da1>:29: UserWarning: To copy construct from a tensor, it is recommended to use sourceTensor.clone().detach() or sourceTensor.clone().detach().requires_grad_(True), rather than torch.tensor(sourceTensor).\n",
            "  targets = torch.tensor(targets, dtype=torch.long).to(device)\n",
            "<ipython-input-3-4f91a56f9da1>:29: UserWarning: To copy construct from a tensor, it is recommended to use sourceTensor.clone().detach() or sourceTensor.clone().detach().requires_grad_(True), rather than torch.tensor(sourceTensor).\n",
            "  targets = torch.tensor(targets, dtype=torch.long).to(device)\n",
            "<ipython-input-3-4f91a56f9da1>:29: UserWarning: To copy construct from a tensor, it is recommended to use sourceTensor.clone().detach() or sourceTensor.clone().detach().requires_grad_(True), rather than torch.tensor(sourceTensor).\n",
            "  targets = torch.tensor(targets, dtype=torch.long).to(device)\n",
            "<ipython-input-3-4f91a56f9da1>:29: UserWarning: To copy construct from a tensor, it is recommended to use sourceTensor.clone().detach() or sourceTensor.clone().detach().requires_grad_(True), rather than torch.tensor(sourceTensor).\n",
            "  targets = torch.tensor(targets, dtype=torch.long).to(device)\n",
            "<ipython-input-3-4f91a56f9da1>:29: UserWarning: To copy construct from a tensor, it is recommended to use sourceTensor.clone().detach() or sourceTensor.clone().detach().requires_grad_(True), rather than torch.tensor(sourceTensor).\n",
            "  targets = torch.tensor(targets, dtype=torch.long).to(device)\n",
            "<ipython-input-3-4f91a56f9da1>:29: UserWarning: To copy construct from a tensor, it is recommended to use sourceTensor.clone().detach() or sourceTensor.clone().detach().requires_grad_(True), rather than torch.tensor(sourceTensor).\n",
            "  targets = torch.tensor(targets, dtype=torch.long).to(device)\n",
            "<ipython-input-3-4f91a56f9da1>:29: UserWarning: To copy construct from a tensor, it is recommended to use sourceTensor.clone().detach() or sourceTensor.clone().detach().requires_grad_(True), rather than torch.tensor(sourceTensor).\n",
            "  targets = torch.tensor(targets, dtype=torch.long).to(device)\n",
            "<ipython-input-3-4f91a56f9da1>:29: UserWarning: To copy construct from a tensor, it is recommended to use sourceTensor.clone().detach() or sourceTensor.clone().detach().requires_grad_(True), rather than torch.tensor(sourceTensor).\n",
            "  targets = torch.tensor(targets, dtype=torch.long).to(device)\n",
            "<ipython-input-3-4f91a56f9da1>:29: UserWarning: To copy construct from a tensor, it is recommended to use sourceTensor.clone().detach() or sourceTensor.clone().detach().requires_grad_(True), rather than torch.tensor(sourceTensor).\n",
            "  targets = torch.tensor(targets, dtype=torch.long).to(device)\n"
          ]
        },
        {
          "output_type": "stream",
          "name": "stdout",
          "text": [
            "Evaluation of model 12 done!\n"
          ]
        },
        {
          "output_type": "stream",
          "name": "stderr",
          "text": [
            "<ipython-input-3-4f91a56f9da1>:29: UserWarning: To copy construct from a tensor, it is recommended to use sourceTensor.clone().detach() or sourceTensor.clone().detach().requires_grad_(True), rather than torch.tensor(sourceTensor).\n",
            "  targets = torch.tensor(targets, dtype=torch.long).to(device)\n",
            "<ipython-input-3-4f91a56f9da1>:29: UserWarning: To copy construct from a tensor, it is recommended to use sourceTensor.clone().detach() or sourceTensor.clone().detach().requires_grad_(True), rather than torch.tensor(sourceTensor).\n",
            "  targets = torch.tensor(targets, dtype=torch.long).to(device)\n",
            "<ipython-input-3-4f91a56f9da1>:29: UserWarning: To copy construct from a tensor, it is recommended to use sourceTensor.clone().detach() or sourceTensor.clone().detach().requires_grad_(True), rather than torch.tensor(sourceTensor).\n",
            "  targets = torch.tensor(targets, dtype=torch.long).to(device)\n",
            "<ipython-input-3-4f91a56f9da1>:29: UserWarning: To copy construct from a tensor, it is recommended to use sourceTensor.clone().detach() or sourceTensor.clone().detach().requires_grad_(True), rather than torch.tensor(sourceTensor).\n",
            "  targets = torch.tensor(targets, dtype=torch.long).to(device)\n",
            "<ipython-input-3-4f91a56f9da1>:29: UserWarning: To copy construct from a tensor, it is recommended to use sourceTensor.clone().detach() or sourceTensor.clone().detach().requires_grad_(True), rather than torch.tensor(sourceTensor).\n",
            "  targets = torch.tensor(targets, dtype=torch.long).to(device)\n",
            "<ipython-input-3-4f91a56f9da1>:29: UserWarning: To copy construct from a tensor, it is recommended to use sourceTensor.clone().detach() or sourceTensor.clone().detach().requires_grad_(True), rather than torch.tensor(sourceTensor).\n",
            "  targets = torch.tensor(targets, dtype=torch.long).to(device)\n",
            "<ipython-input-3-4f91a56f9da1>:29: UserWarning: To copy construct from a tensor, it is recommended to use sourceTensor.clone().detach() or sourceTensor.clone().detach().requires_grad_(True), rather than torch.tensor(sourceTensor).\n",
            "  targets = torch.tensor(targets, dtype=torch.long).to(device)\n",
            "<ipython-input-3-4f91a56f9da1>:29: UserWarning: To copy construct from a tensor, it is recommended to use sourceTensor.clone().detach() or sourceTensor.clone().detach().requires_grad_(True), rather than torch.tensor(sourceTensor).\n",
            "  targets = torch.tensor(targets, dtype=torch.long).to(device)\n",
            "<ipython-input-3-4f91a56f9da1>:29: UserWarning: To copy construct from a tensor, it is recommended to use sourceTensor.clone().detach() or sourceTensor.clone().detach().requires_grad_(True), rather than torch.tensor(sourceTensor).\n",
            "  targets = torch.tensor(targets, dtype=torch.long).to(device)\n",
            "<ipython-input-3-4f91a56f9da1>:29: UserWarning: To copy construct from a tensor, it is recommended to use sourceTensor.clone().detach() or sourceTensor.clone().detach().requires_grad_(True), rather than torch.tensor(sourceTensor).\n",
            "  targets = torch.tensor(targets, dtype=torch.long).to(device)\n",
            "<ipython-input-3-4f91a56f9da1>:29: UserWarning: To copy construct from a tensor, it is recommended to use sourceTensor.clone().detach() or sourceTensor.clone().detach().requires_grad_(True), rather than torch.tensor(sourceTensor).\n",
            "  targets = torch.tensor(targets, dtype=torch.long).to(device)\n",
            "<ipython-input-3-4f91a56f9da1>:29: UserWarning: To copy construct from a tensor, it is recommended to use sourceTensor.clone().detach() or sourceTensor.clone().detach().requires_grad_(True), rather than torch.tensor(sourceTensor).\n",
            "  targets = torch.tensor(targets, dtype=torch.long).to(device)\n",
            "<ipython-input-3-4f91a56f9da1>:29: UserWarning: To copy construct from a tensor, it is recommended to use sourceTensor.clone().detach() or sourceTensor.clone().detach().requires_grad_(True), rather than torch.tensor(sourceTensor).\n",
            "  targets = torch.tensor(targets, dtype=torch.long).to(device)\n"
          ]
        },
        {
          "output_type": "stream",
          "name": "stdout",
          "text": [
            "Evaluation of model 13 done!\n"
          ]
        },
        {
          "output_type": "stream",
          "name": "stderr",
          "text": [
            "<ipython-input-3-4f91a56f9da1>:29: UserWarning: To copy construct from a tensor, it is recommended to use sourceTensor.clone().detach() or sourceTensor.clone().detach().requires_grad_(True), rather than torch.tensor(sourceTensor).\n",
            "  targets = torch.tensor(targets, dtype=torch.long).to(device)\n",
            "<ipython-input-3-4f91a56f9da1>:29: UserWarning: To copy construct from a tensor, it is recommended to use sourceTensor.clone().detach() or sourceTensor.clone().detach().requires_grad_(True), rather than torch.tensor(sourceTensor).\n",
            "  targets = torch.tensor(targets, dtype=torch.long).to(device)\n",
            "<ipython-input-3-4f91a56f9da1>:29: UserWarning: To copy construct from a tensor, it is recommended to use sourceTensor.clone().detach() or sourceTensor.clone().detach().requires_grad_(True), rather than torch.tensor(sourceTensor).\n",
            "  targets = torch.tensor(targets, dtype=torch.long).to(device)\n",
            "<ipython-input-3-4f91a56f9da1>:29: UserWarning: To copy construct from a tensor, it is recommended to use sourceTensor.clone().detach() or sourceTensor.clone().detach().requires_grad_(True), rather than torch.tensor(sourceTensor).\n",
            "  targets = torch.tensor(targets, dtype=torch.long).to(device)\n",
            "<ipython-input-3-4f91a56f9da1>:29: UserWarning: To copy construct from a tensor, it is recommended to use sourceTensor.clone().detach() or sourceTensor.clone().detach().requires_grad_(True), rather than torch.tensor(sourceTensor).\n",
            "  targets = torch.tensor(targets, dtype=torch.long).to(device)\n",
            "<ipython-input-3-4f91a56f9da1>:29: UserWarning: To copy construct from a tensor, it is recommended to use sourceTensor.clone().detach() or sourceTensor.clone().detach().requires_grad_(True), rather than torch.tensor(sourceTensor).\n",
            "  targets = torch.tensor(targets, dtype=torch.long).to(device)\n",
            "<ipython-input-3-4f91a56f9da1>:29: UserWarning: To copy construct from a tensor, it is recommended to use sourceTensor.clone().detach() or sourceTensor.clone().detach().requires_grad_(True), rather than torch.tensor(sourceTensor).\n",
            "  targets = torch.tensor(targets, dtype=torch.long).to(device)\n",
            "<ipython-input-3-4f91a56f9da1>:29: UserWarning: To copy construct from a tensor, it is recommended to use sourceTensor.clone().detach() or sourceTensor.clone().detach().requires_grad_(True), rather than torch.tensor(sourceTensor).\n",
            "  targets = torch.tensor(targets, dtype=torch.long).to(device)\n",
            "<ipython-input-3-4f91a56f9da1>:29: UserWarning: To copy construct from a tensor, it is recommended to use sourceTensor.clone().detach() or sourceTensor.clone().detach().requires_grad_(True), rather than torch.tensor(sourceTensor).\n",
            "  targets = torch.tensor(targets, dtype=torch.long).to(device)\n",
            "<ipython-input-3-4f91a56f9da1>:29: UserWarning: To copy construct from a tensor, it is recommended to use sourceTensor.clone().detach() or sourceTensor.clone().detach().requires_grad_(True), rather than torch.tensor(sourceTensor).\n",
            "  targets = torch.tensor(targets, dtype=torch.long).to(device)\n",
            "<ipython-input-3-4f91a56f9da1>:29: UserWarning: To copy construct from a tensor, it is recommended to use sourceTensor.clone().detach() or sourceTensor.clone().detach().requires_grad_(True), rather than torch.tensor(sourceTensor).\n",
            "  targets = torch.tensor(targets, dtype=torch.long).to(device)\n",
            "<ipython-input-3-4f91a56f9da1>:29: UserWarning: To copy construct from a tensor, it is recommended to use sourceTensor.clone().detach() or sourceTensor.clone().detach().requires_grad_(True), rather than torch.tensor(sourceTensor).\n",
            "  targets = torch.tensor(targets, dtype=torch.long).to(device)\n",
            "<ipython-input-3-4f91a56f9da1>:29: UserWarning: To copy construct from a tensor, it is recommended to use sourceTensor.clone().detach() or sourceTensor.clone().detach().requires_grad_(True), rather than torch.tensor(sourceTensor).\n",
            "  targets = torch.tensor(targets, dtype=torch.long).to(device)\n",
            "<ipython-input-3-4f91a56f9da1>:29: UserWarning: To copy construct from a tensor, it is recommended to use sourceTensor.clone().detach() or sourceTensor.clone().detach().requires_grad_(True), rather than torch.tensor(sourceTensor).\n",
            "  targets = torch.tensor(targets, dtype=torch.long).to(device)\n"
          ]
        },
        {
          "output_type": "stream",
          "name": "stdout",
          "text": [
            "Evaluation of model 14 done!\n"
          ]
        },
        {
          "output_type": "stream",
          "name": "stderr",
          "text": [
            "<ipython-input-3-4f91a56f9da1>:29: UserWarning: To copy construct from a tensor, it is recommended to use sourceTensor.clone().detach() or sourceTensor.clone().detach().requires_grad_(True), rather than torch.tensor(sourceTensor).\n",
            "  targets = torch.tensor(targets, dtype=torch.long).to(device)\n",
            "<ipython-input-3-4f91a56f9da1>:29: UserWarning: To copy construct from a tensor, it is recommended to use sourceTensor.clone().detach() or sourceTensor.clone().detach().requires_grad_(True), rather than torch.tensor(sourceTensor).\n",
            "  targets = torch.tensor(targets, dtype=torch.long).to(device)\n",
            "<ipython-input-3-4f91a56f9da1>:29: UserWarning: To copy construct from a tensor, it is recommended to use sourceTensor.clone().detach() or sourceTensor.clone().detach().requires_grad_(True), rather than torch.tensor(sourceTensor).\n",
            "  targets = torch.tensor(targets, dtype=torch.long).to(device)\n",
            "<ipython-input-3-4f91a56f9da1>:29: UserWarning: To copy construct from a tensor, it is recommended to use sourceTensor.clone().detach() or sourceTensor.clone().detach().requires_grad_(True), rather than torch.tensor(sourceTensor).\n",
            "  targets = torch.tensor(targets, dtype=torch.long).to(device)\n",
            "<ipython-input-3-4f91a56f9da1>:29: UserWarning: To copy construct from a tensor, it is recommended to use sourceTensor.clone().detach() or sourceTensor.clone().detach().requires_grad_(True), rather than torch.tensor(sourceTensor).\n",
            "  targets = torch.tensor(targets, dtype=torch.long).to(device)\n",
            "<ipython-input-3-4f91a56f9da1>:29: UserWarning: To copy construct from a tensor, it is recommended to use sourceTensor.clone().detach() or sourceTensor.clone().detach().requires_grad_(True), rather than torch.tensor(sourceTensor).\n",
            "  targets = torch.tensor(targets, dtype=torch.long).to(device)\n",
            "<ipython-input-3-4f91a56f9da1>:29: UserWarning: To copy construct from a tensor, it is recommended to use sourceTensor.clone().detach() or sourceTensor.clone().detach().requires_grad_(True), rather than torch.tensor(sourceTensor).\n",
            "  targets = torch.tensor(targets, dtype=torch.long).to(device)\n",
            "<ipython-input-3-4f91a56f9da1>:29: UserWarning: To copy construct from a tensor, it is recommended to use sourceTensor.clone().detach() or sourceTensor.clone().detach().requires_grad_(True), rather than torch.tensor(sourceTensor).\n",
            "  targets = torch.tensor(targets, dtype=torch.long).to(device)\n",
            "<ipython-input-3-4f91a56f9da1>:29: UserWarning: To copy construct from a tensor, it is recommended to use sourceTensor.clone().detach() or sourceTensor.clone().detach().requires_grad_(True), rather than torch.tensor(sourceTensor).\n",
            "  targets = torch.tensor(targets, dtype=torch.long).to(device)\n",
            "<ipython-input-3-4f91a56f9da1>:29: UserWarning: To copy construct from a tensor, it is recommended to use sourceTensor.clone().detach() or sourceTensor.clone().detach().requires_grad_(True), rather than torch.tensor(sourceTensor).\n",
            "  targets = torch.tensor(targets, dtype=torch.long).to(device)\n",
            "<ipython-input-3-4f91a56f9da1>:29: UserWarning: To copy construct from a tensor, it is recommended to use sourceTensor.clone().detach() or sourceTensor.clone().detach().requires_grad_(True), rather than torch.tensor(sourceTensor).\n",
            "  targets = torch.tensor(targets, dtype=torch.long).to(device)\n",
            "<ipython-input-3-4f91a56f9da1>:29: UserWarning: To copy construct from a tensor, it is recommended to use sourceTensor.clone().detach() or sourceTensor.clone().detach().requires_grad_(True), rather than torch.tensor(sourceTensor).\n",
            "  targets = torch.tensor(targets, dtype=torch.long).to(device)\n",
            "<ipython-input-3-4f91a56f9da1>:29: UserWarning: To copy construct from a tensor, it is recommended to use sourceTensor.clone().detach() or sourceTensor.clone().detach().requires_grad_(True), rather than torch.tensor(sourceTensor).\n",
            "  targets = torch.tensor(targets, dtype=torch.long).to(device)\n",
            "<ipython-input-3-4f91a56f9da1>:29: UserWarning: To copy construct from a tensor, it is recommended to use sourceTensor.clone().detach() or sourceTensor.clone().detach().requires_grad_(True), rather than torch.tensor(sourceTensor).\n",
            "  targets = torch.tensor(targets, dtype=torch.long).to(device)\n",
            "<ipython-input-3-4f91a56f9da1>:29: UserWarning: To copy construct from a tensor, it is recommended to use sourceTensor.clone().detach() or sourceTensor.clone().detach().requires_grad_(True), rather than torch.tensor(sourceTensor).\n",
            "  targets = torch.tensor(targets, dtype=torch.long).to(device)\n"
          ]
        },
        {
          "output_type": "stream",
          "name": "stdout",
          "text": [
            "Evaluation of model 15 done!\n"
          ]
        },
        {
          "output_type": "stream",
          "name": "stderr",
          "text": [
            "<ipython-input-3-4f91a56f9da1>:29: UserWarning: To copy construct from a tensor, it is recommended to use sourceTensor.clone().detach() or sourceTensor.clone().detach().requires_grad_(True), rather than torch.tensor(sourceTensor).\n",
            "  targets = torch.tensor(targets, dtype=torch.long).to(device)\n",
            "<ipython-input-3-4f91a56f9da1>:29: UserWarning: To copy construct from a tensor, it is recommended to use sourceTensor.clone().detach() or sourceTensor.clone().detach().requires_grad_(True), rather than torch.tensor(sourceTensor).\n",
            "  targets = torch.tensor(targets, dtype=torch.long).to(device)\n",
            "<ipython-input-3-4f91a56f9da1>:29: UserWarning: To copy construct from a tensor, it is recommended to use sourceTensor.clone().detach() or sourceTensor.clone().detach().requires_grad_(True), rather than torch.tensor(sourceTensor).\n",
            "  targets = torch.tensor(targets, dtype=torch.long).to(device)\n",
            "<ipython-input-3-4f91a56f9da1>:29: UserWarning: To copy construct from a tensor, it is recommended to use sourceTensor.clone().detach() or sourceTensor.clone().detach().requires_grad_(True), rather than torch.tensor(sourceTensor).\n",
            "  targets = torch.tensor(targets, dtype=torch.long).to(device)\n",
            "<ipython-input-3-4f91a56f9da1>:29: UserWarning: To copy construct from a tensor, it is recommended to use sourceTensor.clone().detach() or sourceTensor.clone().detach().requires_grad_(True), rather than torch.tensor(sourceTensor).\n",
            "  targets = torch.tensor(targets, dtype=torch.long).to(device)\n",
            "<ipython-input-3-4f91a56f9da1>:29: UserWarning: To copy construct from a tensor, it is recommended to use sourceTensor.clone().detach() or sourceTensor.clone().detach().requires_grad_(True), rather than torch.tensor(sourceTensor).\n",
            "  targets = torch.tensor(targets, dtype=torch.long).to(device)\n",
            "<ipython-input-3-4f91a56f9da1>:29: UserWarning: To copy construct from a tensor, it is recommended to use sourceTensor.clone().detach() or sourceTensor.clone().detach().requires_grad_(True), rather than torch.tensor(sourceTensor).\n",
            "  targets = torch.tensor(targets, dtype=torch.long).to(device)\n",
            "<ipython-input-3-4f91a56f9da1>:29: UserWarning: To copy construct from a tensor, it is recommended to use sourceTensor.clone().detach() or sourceTensor.clone().detach().requires_grad_(True), rather than torch.tensor(sourceTensor).\n",
            "  targets = torch.tensor(targets, dtype=torch.long).to(device)\n",
            "<ipython-input-3-4f91a56f9da1>:29: UserWarning: To copy construct from a tensor, it is recommended to use sourceTensor.clone().detach() or sourceTensor.clone().detach().requires_grad_(True), rather than torch.tensor(sourceTensor).\n",
            "  targets = torch.tensor(targets, dtype=torch.long).to(device)\n",
            "<ipython-input-3-4f91a56f9da1>:29: UserWarning: To copy construct from a tensor, it is recommended to use sourceTensor.clone().detach() or sourceTensor.clone().detach().requires_grad_(True), rather than torch.tensor(sourceTensor).\n",
            "  targets = torch.tensor(targets, dtype=torch.long).to(device)\n",
            "<ipython-input-3-4f91a56f9da1>:29: UserWarning: To copy construct from a tensor, it is recommended to use sourceTensor.clone().detach() or sourceTensor.clone().detach().requires_grad_(True), rather than torch.tensor(sourceTensor).\n",
            "  targets = torch.tensor(targets, dtype=torch.long).to(device)\n",
            "<ipython-input-3-4f91a56f9da1>:29: UserWarning: To copy construct from a tensor, it is recommended to use sourceTensor.clone().detach() or sourceTensor.clone().detach().requires_grad_(True), rather than torch.tensor(sourceTensor).\n",
            "  targets = torch.tensor(targets, dtype=torch.long).to(device)\n",
            "<ipython-input-3-4f91a56f9da1>:29: UserWarning: To copy construct from a tensor, it is recommended to use sourceTensor.clone().detach() or sourceTensor.clone().detach().requires_grad_(True), rather than torch.tensor(sourceTensor).\n",
            "  targets = torch.tensor(targets, dtype=torch.long).to(device)\n",
            "<ipython-input-3-4f91a56f9da1>:29: UserWarning: To copy construct from a tensor, it is recommended to use sourceTensor.clone().detach() or sourceTensor.clone().detach().requires_grad_(True), rather than torch.tensor(sourceTensor).\n",
            "  targets = torch.tensor(targets, dtype=torch.long).to(device)\n",
            "<ipython-input-3-4f91a56f9da1>:29: UserWarning: To copy construct from a tensor, it is recommended to use sourceTensor.clone().detach() or sourceTensor.clone().detach().requires_grad_(True), rather than torch.tensor(sourceTensor).\n",
            "  targets = torch.tensor(targets, dtype=torch.long).to(device)\n",
            "<ipython-input-3-4f91a56f9da1>:29: UserWarning: To copy construct from a tensor, it is recommended to use sourceTensor.clone().detach() or sourceTensor.clone().detach().requires_grad_(True), rather than torch.tensor(sourceTensor).\n",
            "  targets = torch.tensor(targets, dtype=torch.long).to(device)\n"
          ]
        },
        {
          "output_type": "stream",
          "name": "stdout",
          "text": [
            "Evaluation of model 16 done!\n"
          ]
        },
        {
          "output_type": "stream",
          "name": "stderr",
          "text": [
            "<ipython-input-3-4f91a56f9da1>:29: UserWarning: To copy construct from a tensor, it is recommended to use sourceTensor.clone().detach() or sourceTensor.clone().detach().requires_grad_(True), rather than torch.tensor(sourceTensor).\n",
            "  targets = torch.tensor(targets, dtype=torch.long).to(device)\n",
            "<ipython-input-3-4f91a56f9da1>:29: UserWarning: To copy construct from a tensor, it is recommended to use sourceTensor.clone().detach() or sourceTensor.clone().detach().requires_grad_(True), rather than torch.tensor(sourceTensor).\n",
            "  targets = torch.tensor(targets, dtype=torch.long).to(device)\n",
            "<ipython-input-3-4f91a56f9da1>:29: UserWarning: To copy construct from a tensor, it is recommended to use sourceTensor.clone().detach() or sourceTensor.clone().detach().requires_grad_(True), rather than torch.tensor(sourceTensor).\n",
            "  targets = torch.tensor(targets, dtype=torch.long).to(device)\n",
            "<ipython-input-3-4f91a56f9da1>:29: UserWarning: To copy construct from a tensor, it is recommended to use sourceTensor.clone().detach() or sourceTensor.clone().detach().requires_grad_(True), rather than torch.tensor(sourceTensor).\n",
            "  targets = torch.tensor(targets, dtype=torch.long).to(device)\n",
            "<ipython-input-3-4f91a56f9da1>:29: UserWarning: To copy construct from a tensor, it is recommended to use sourceTensor.clone().detach() or sourceTensor.clone().detach().requires_grad_(True), rather than torch.tensor(sourceTensor).\n",
            "  targets = torch.tensor(targets, dtype=torch.long).to(device)\n",
            "<ipython-input-3-4f91a56f9da1>:29: UserWarning: To copy construct from a tensor, it is recommended to use sourceTensor.clone().detach() or sourceTensor.clone().detach().requires_grad_(True), rather than torch.tensor(sourceTensor).\n",
            "  targets = torch.tensor(targets, dtype=torch.long).to(device)\n",
            "<ipython-input-3-4f91a56f9da1>:29: UserWarning: To copy construct from a tensor, it is recommended to use sourceTensor.clone().detach() or sourceTensor.clone().detach().requires_grad_(True), rather than torch.tensor(sourceTensor).\n",
            "  targets = torch.tensor(targets, dtype=torch.long).to(device)\n",
            "<ipython-input-3-4f91a56f9da1>:29: UserWarning: To copy construct from a tensor, it is recommended to use sourceTensor.clone().detach() or sourceTensor.clone().detach().requires_grad_(True), rather than torch.tensor(sourceTensor).\n",
            "  targets = torch.tensor(targets, dtype=torch.long).to(device)\n",
            "<ipython-input-3-4f91a56f9da1>:29: UserWarning: To copy construct from a tensor, it is recommended to use sourceTensor.clone().detach() or sourceTensor.clone().detach().requires_grad_(True), rather than torch.tensor(sourceTensor).\n",
            "  targets = torch.tensor(targets, dtype=torch.long).to(device)\n",
            "<ipython-input-3-4f91a56f9da1>:29: UserWarning: To copy construct from a tensor, it is recommended to use sourceTensor.clone().detach() or sourceTensor.clone().detach().requires_grad_(True), rather than torch.tensor(sourceTensor).\n",
            "  targets = torch.tensor(targets, dtype=torch.long).to(device)\n",
            "<ipython-input-3-4f91a56f9da1>:29: UserWarning: To copy construct from a tensor, it is recommended to use sourceTensor.clone().detach() or sourceTensor.clone().detach().requires_grad_(True), rather than torch.tensor(sourceTensor).\n",
            "  targets = torch.tensor(targets, dtype=torch.long).to(device)\n",
            "<ipython-input-3-4f91a56f9da1>:29: UserWarning: To copy construct from a tensor, it is recommended to use sourceTensor.clone().detach() or sourceTensor.clone().detach().requires_grad_(True), rather than torch.tensor(sourceTensor).\n",
            "  targets = torch.tensor(targets, dtype=torch.long).to(device)\n",
            "<ipython-input-3-4f91a56f9da1>:29: UserWarning: To copy construct from a tensor, it is recommended to use sourceTensor.clone().detach() or sourceTensor.clone().detach().requires_grad_(True), rather than torch.tensor(sourceTensor).\n",
            "  targets = torch.tensor(targets, dtype=torch.long).to(device)\n",
            "<ipython-input-3-4f91a56f9da1>:29: UserWarning: To copy construct from a tensor, it is recommended to use sourceTensor.clone().detach() or sourceTensor.clone().detach().requires_grad_(True), rather than torch.tensor(sourceTensor).\n",
            "  targets = torch.tensor(targets, dtype=torch.long).to(device)\n",
            "<ipython-input-3-4f91a56f9da1>:29: UserWarning: To copy construct from a tensor, it is recommended to use sourceTensor.clone().detach() or sourceTensor.clone().detach().requires_grad_(True), rather than torch.tensor(sourceTensor).\n",
            "  targets = torch.tensor(targets, dtype=torch.long).to(device)\n",
            "<ipython-input-3-4f91a56f9da1>:29: UserWarning: To copy construct from a tensor, it is recommended to use sourceTensor.clone().detach() or sourceTensor.clone().detach().requires_grad_(True), rather than torch.tensor(sourceTensor).\n",
            "  targets = torch.tensor(targets, dtype=torch.long).to(device)\n",
            "<ipython-input-3-4f91a56f9da1>:29: UserWarning: To copy construct from a tensor, it is recommended to use sourceTensor.clone().detach() or sourceTensor.clone().detach().requires_grad_(True), rather than torch.tensor(sourceTensor).\n",
            "  targets = torch.tensor(targets, dtype=torch.long).to(device)\n"
          ]
        },
        {
          "output_type": "stream",
          "name": "stdout",
          "text": [
            "Evaluation of model 17 done!\n"
          ]
        },
        {
          "output_type": "stream",
          "name": "stderr",
          "text": [
            "<ipython-input-3-4f91a56f9da1>:29: UserWarning: To copy construct from a tensor, it is recommended to use sourceTensor.clone().detach() or sourceTensor.clone().detach().requires_grad_(True), rather than torch.tensor(sourceTensor).\n",
            "  targets = torch.tensor(targets, dtype=torch.long).to(device)\n",
            "<ipython-input-3-4f91a56f9da1>:29: UserWarning: To copy construct from a tensor, it is recommended to use sourceTensor.clone().detach() or sourceTensor.clone().detach().requires_grad_(True), rather than torch.tensor(sourceTensor).\n",
            "  targets = torch.tensor(targets, dtype=torch.long).to(device)\n",
            "<ipython-input-3-4f91a56f9da1>:29: UserWarning: To copy construct from a tensor, it is recommended to use sourceTensor.clone().detach() or sourceTensor.clone().detach().requires_grad_(True), rather than torch.tensor(sourceTensor).\n",
            "  targets = torch.tensor(targets, dtype=torch.long).to(device)\n",
            "<ipython-input-3-4f91a56f9da1>:29: UserWarning: To copy construct from a tensor, it is recommended to use sourceTensor.clone().detach() or sourceTensor.clone().detach().requires_grad_(True), rather than torch.tensor(sourceTensor).\n",
            "  targets = torch.tensor(targets, dtype=torch.long).to(device)\n",
            "<ipython-input-3-4f91a56f9da1>:29: UserWarning: To copy construct from a tensor, it is recommended to use sourceTensor.clone().detach() or sourceTensor.clone().detach().requires_grad_(True), rather than torch.tensor(sourceTensor).\n",
            "  targets = torch.tensor(targets, dtype=torch.long).to(device)\n",
            "<ipython-input-3-4f91a56f9da1>:29: UserWarning: To copy construct from a tensor, it is recommended to use sourceTensor.clone().detach() or sourceTensor.clone().detach().requires_grad_(True), rather than torch.tensor(sourceTensor).\n",
            "  targets = torch.tensor(targets, dtype=torch.long).to(device)\n",
            "<ipython-input-3-4f91a56f9da1>:29: UserWarning: To copy construct from a tensor, it is recommended to use sourceTensor.clone().detach() or sourceTensor.clone().detach().requires_grad_(True), rather than torch.tensor(sourceTensor).\n",
            "  targets = torch.tensor(targets, dtype=torch.long).to(device)\n",
            "<ipython-input-3-4f91a56f9da1>:29: UserWarning: To copy construct from a tensor, it is recommended to use sourceTensor.clone().detach() or sourceTensor.clone().detach().requires_grad_(True), rather than torch.tensor(sourceTensor).\n",
            "  targets = torch.tensor(targets, dtype=torch.long).to(device)\n",
            "<ipython-input-3-4f91a56f9da1>:29: UserWarning: To copy construct from a tensor, it is recommended to use sourceTensor.clone().detach() or sourceTensor.clone().detach().requires_grad_(True), rather than torch.tensor(sourceTensor).\n",
            "  targets = torch.tensor(targets, dtype=torch.long).to(device)\n",
            "<ipython-input-3-4f91a56f9da1>:29: UserWarning: To copy construct from a tensor, it is recommended to use sourceTensor.clone().detach() or sourceTensor.clone().detach().requires_grad_(True), rather than torch.tensor(sourceTensor).\n",
            "  targets = torch.tensor(targets, dtype=torch.long).to(device)\n",
            "<ipython-input-3-4f91a56f9da1>:29: UserWarning: To copy construct from a tensor, it is recommended to use sourceTensor.clone().detach() or sourceTensor.clone().detach().requires_grad_(True), rather than torch.tensor(sourceTensor).\n",
            "  targets = torch.tensor(targets, dtype=torch.long).to(device)\n",
            "<ipython-input-3-4f91a56f9da1>:29: UserWarning: To copy construct from a tensor, it is recommended to use sourceTensor.clone().detach() or sourceTensor.clone().detach().requires_grad_(True), rather than torch.tensor(sourceTensor).\n",
            "  targets = torch.tensor(targets, dtype=torch.long).to(device)\n",
            "<ipython-input-3-4f91a56f9da1>:29: UserWarning: To copy construct from a tensor, it is recommended to use sourceTensor.clone().detach() or sourceTensor.clone().detach().requires_grad_(True), rather than torch.tensor(sourceTensor).\n",
            "  targets = torch.tensor(targets, dtype=torch.long).to(device)\n",
            "<ipython-input-3-4f91a56f9da1>:29: UserWarning: To copy construct from a tensor, it is recommended to use sourceTensor.clone().detach() or sourceTensor.clone().detach().requires_grad_(True), rather than torch.tensor(sourceTensor).\n",
            "  targets = torch.tensor(targets, dtype=torch.long).to(device)\n",
            "<ipython-input-3-4f91a56f9da1>:29: UserWarning: To copy construct from a tensor, it is recommended to use sourceTensor.clone().detach() or sourceTensor.clone().detach().requires_grad_(True), rather than torch.tensor(sourceTensor).\n",
            "  targets = torch.tensor(targets, dtype=torch.long).to(device)\n",
            "<ipython-input-3-4f91a56f9da1>:29: UserWarning: To copy construct from a tensor, it is recommended to use sourceTensor.clone().detach() or sourceTensor.clone().detach().requires_grad_(True), rather than torch.tensor(sourceTensor).\n",
            "  targets = torch.tensor(targets, dtype=torch.long).to(device)\n",
            "<ipython-input-3-4f91a56f9da1>:29: UserWarning: To copy construct from a tensor, it is recommended to use sourceTensor.clone().detach() or sourceTensor.clone().detach().requires_grad_(True), rather than torch.tensor(sourceTensor).\n",
            "  targets = torch.tensor(targets, dtype=torch.long).to(device)\n",
            "<ipython-input-3-4f91a56f9da1>:29: UserWarning: To copy construct from a tensor, it is recommended to use sourceTensor.clone().detach() or sourceTensor.clone().detach().requires_grad_(True), rather than torch.tensor(sourceTensor).\n",
            "  targets = torch.tensor(targets, dtype=torch.long).to(device)\n"
          ]
        },
        {
          "output_type": "stream",
          "name": "stdout",
          "text": [
            "Evaluation of model 18 done!\n"
          ]
        },
        {
          "output_type": "stream",
          "name": "stderr",
          "text": [
            "<ipython-input-3-4f91a56f9da1>:29: UserWarning: To copy construct from a tensor, it is recommended to use sourceTensor.clone().detach() or sourceTensor.clone().detach().requires_grad_(True), rather than torch.tensor(sourceTensor).\n",
            "  targets = torch.tensor(targets, dtype=torch.long).to(device)\n",
            "<ipython-input-3-4f91a56f9da1>:29: UserWarning: To copy construct from a tensor, it is recommended to use sourceTensor.clone().detach() or sourceTensor.clone().detach().requires_grad_(True), rather than torch.tensor(sourceTensor).\n",
            "  targets = torch.tensor(targets, dtype=torch.long).to(device)\n",
            "<ipython-input-3-4f91a56f9da1>:29: UserWarning: To copy construct from a tensor, it is recommended to use sourceTensor.clone().detach() or sourceTensor.clone().detach().requires_grad_(True), rather than torch.tensor(sourceTensor).\n",
            "  targets = torch.tensor(targets, dtype=torch.long).to(device)\n",
            "<ipython-input-3-4f91a56f9da1>:29: UserWarning: To copy construct from a tensor, it is recommended to use sourceTensor.clone().detach() or sourceTensor.clone().detach().requires_grad_(True), rather than torch.tensor(sourceTensor).\n",
            "  targets = torch.tensor(targets, dtype=torch.long).to(device)\n",
            "<ipython-input-3-4f91a56f9da1>:29: UserWarning: To copy construct from a tensor, it is recommended to use sourceTensor.clone().detach() or sourceTensor.clone().detach().requires_grad_(True), rather than torch.tensor(sourceTensor).\n",
            "  targets = torch.tensor(targets, dtype=torch.long).to(device)\n",
            "<ipython-input-3-4f91a56f9da1>:29: UserWarning: To copy construct from a tensor, it is recommended to use sourceTensor.clone().detach() or sourceTensor.clone().detach().requires_grad_(True), rather than torch.tensor(sourceTensor).\n",
            "  targets = torch.tensor(targets, dtype=torch.long).to(device)\n",
            "<ipython-input-3-4f91a56f9da1>:29: UserWarning: To copy construct from a tensor, it is recommended to use sourceTensor.clone().detach() or sourceTensor.clone().detach().requires_grad_(True), rather than torch.tensor(sourceTensor).\n",
            "  targets = torch.tensor(targets, dtype=torch.long).to(device)\n",
            "<ipython-input-3-4f91a56f9da1>:29: UserWarning: To copy construct from a tensor, it is recommended to use sourceTensor.clone().detach() or sourceTensor.clone().detach().requires_grad_(True), rather than torch.tensor(sourceTensor).\n",
            "  targets = torch.tensor(targets, dtype=torch.long).to(device)\n",
            "<ipython-input-3-4f91a56f9da1>:29: UserWarning: To copy construct from a tensor, it is recommended to use sourceTensor.clone().detach() or sourceTensor.clone().detach().requires_grad_(True), rather than torch.tensor(sourceTensor).\n",
            "  targets = torch.tensor(targets, dtype=torch.long).to(device)\n",
            "<ipython-input-3-4f91a56f9da1>:29: UserWarning: To copy construct from a tensor, it is recommended to use sourceTensor.clone().detach() or sourceTensor.clone().detach().requires_grad_(True), rather than torch.tensor(sourceTensor).\n",
            "  targets = torch.tensor(targets, dtype=torch.long).to(device)\n",
            "<ipython-input-3-4f91a56f9da1>:29: UserWarning: To copy construct from a tensor, it is recommended to use sourceTensor.clone().detach() or sourceTensor.clone().detach().requires_grad_(True), rather than torch.tensor(sourceTensor).\n",
            "  targets = torch.tensor(targets, dtype=torch.long).to(device)\n",
            "<ipython-input-3-4f91a56f9da1>:29: UserWarning: To copy construct from a tensor, it is recommended to use sourceTensor.clone().detach() or sourceTensor.clone().detach().requires_grad_(True), rather than torch.tensor(sourceTensor).\n",
            "  targets = torch.tensor(targets, dtype=torch.long).to(device)\n",
            "<ipython-input-3-4f91a56f9da1>:29: UserWarning: To copy construct from a tensor, it is recommended to use sourceTensor.clone().detach() or sourceTensor.clone().detach().requires_grad_(True), rather than torch.tensor(sourceTensor).\n",
            "  targets = torch.tensor(targets, dtype=torch.long).to(device)\n",
            "<ipython-input-3-4f91a56f9da1>:29: UserWarning: To copy construct from a tensor, it is recommended to use sourceTensor.clone().detach() or sourceTensor.clone().detach().requires_grad_(True), rather than torch.tensor(sourceTensor).\n",
            "  targets = torch.tensor(targets, dtype=torch.long).to(device)\n",
            "<ipython-input-3-4f91a56f9da1>:29: UserWarning: To copy construct from a tensor, it is recommended to use sourceTensor.clone().detach() or sourceTensor.clone().detach().requires_grad_(True), rather than torch.tensor(sourceTensor).\n",
            "  targets = torch.tensor(targets, dtype=torch.long).to(device)\n",
            "<ipython-input-3-4f91a56f9da1>:29: UserWarning: To copy construct from a tensor, it is recommended to use sourceTensor.clone().detach() or sourceTensor.clone().detach().requires_grad_(True), rather than torch.tensor(sourceTensor).\n",
            "  targets = torch.tensor(targets, dtype=torch.long).to(device)\n",
            "<ipython-input-3-4f91a56f9da1>:29: UserWarning: To copy construct from a tensor, it is recommended to use sourceTensor.clone().detach() or sourceTensor.clone().detach().requires_grad_(True), rather than torch.tensor(sourceTensor).\n",
            "  targets = torch.tensor(targets, dtype=torch.long).to(device)\n",
            "<ipython-input-3-4f91a56f9da1>:29: UserWarning: To copy construct from a tensor, it is recommended to use sourceTensor.clone().detach() or sourceTensor.clone().detach().requires_grad_(True), rather than torch.tensor(sourceTensor).\n",
            "  targets = torch.tensor(targets, dtype=torch.long).to(device)\n",
            "<ipython-input-3-4f91a56f9da1>:29: UserWarning: To copy construct from a tensor, it is recommended to use sourceTensor.clone().detach() or sourceTensor.clone().detach().requires_grad_(True), rather than torch.tensor(sourceTensor).\n",
            "  targets = torch.tensor(targets, dtype=torch.long).to(device)\n"
          ]
        },
        {
          "output_type": "stream",
          "name": "stdout",
          "text": [
            "Evaluation of model 19 done!\n"
          ]
        },
        {
          "output_type": "stream",
          "name": "stderr",
          "text": [
            "<ipython-input-3-4f91a56f9da1>:29: UserWarning: To copy construct from a tensor, it is recommended to use sourceTensor.clone().detach() or sourceTensor.clone().detach().requires_grad_(True), rather than torch.tensor(sourceTensor).\n",
            "  targets = torch.tensor(targets, dtype=torch.long).to(device)\n",
            "<ipython-input-3-4f91a56f9da1>:29: UserWarning: To copy construct from a tensor, it is recommended to use sourceTensor.clone().detach() or sourceTensor.clone().detach().requires_grad_(True), rather than torch.tensor(sourceTensor).\n",
            "  targets = torch.tensor(targets, dtype=torch.long).to(device)\n",
            "<ipython-input-3-4f91a56f9da1>:29: UserWarning: To copy construct from a tensor, it is recommended to use sourceTensor.clone().detach() or sourceTensor.clone().detach().requires_grad_(True), rather than torch.tensor(sourceTensor).\n",
            "  targets = torch.tensor(targets, dtype=torch.long).to(device)\n",
            "<ipython-input-3-4f91a56f9da1>:29: UserWarning: To copy construct from a tensor, it is recommended to use sourceTensor.clone().detach() or sourceTensor.clone().detach().requires_grad_(True), rather than torch.tensor(sourceTensor).\n",
            "  targets = torch.tensor(targets, dtype=torch.long).to(device)\n",
            "<ipython-input-3-4f91a56f9da1>:29: UserWarning: To copy construct from a tensor, it is recommended to use sourceTensor.clone().detach() or sourceTensor.clone().detach().requires_grad_(True), rather than torch.tensor(sourceTensor).\n",
            "  targets = torch.tensor(targets, dtype=torch.long).to(device)\n",
            "<ipython-input-3-4f91a56f9da1>:29: UserWarning: To copy construct from a tensor, it is recommended to use sourceTensor.clone().detach() or sourceTensor.clone().detach().requires_grad_(True), rather than torch.tensor(sourceTensor).\n",
            "  targets = torch.tensor(targets, dtype=torch.long).to(device)\n",
            "<ipython-input-3-4f91a56f9da1>:29: UserWarning: To copy construct from a tensor, it is recommended to use sourceTensor.clone().detach() or sourceTensor.clone().detach().requires_grad_(True), rather than torch.tensor(sourceTensor).\n",
            "  targets = torch.tensor(targets, dtype=torch.long).to(device)\n",
            "<ipython-input-3-4f91a56f9da1>:29: UserWarning: To copy construct from a tensor, it is recommended to use sourceTensor.clone().detach() or sourceTensor.clone().detach().requires_grad_(True), rather than torch.tensor(sourceTensor).\n",
            "  targets = torch.tensor(targets, dtype=torch.long).to(device)\n",
            "<ipython-input-3-4f91a56f9da1>:29: UserWarning: To copy construct from a tensor, it is recommended to use sourceTensor.clone().detach() or sourceTensor.clone().detach().requires_grad_(True), rather than torch.tensor(sourceTensor).\n",
            "  targets = torch.tensor(targets, dtype=torch.long).to(device)\n",
            "<ipython-input-3-4f91a56f9da1>:29: UserWarning: To copy construct from a tensor, it is recommended to use sourceTensor.clone().detach() or sourceTensor.clone().detach().requires_grad_(True), rather than torch.tensor(sourceTensor).\n",
            "  targets = torch.tensor(targets, dtype=torch.long).to(device)\n",
            "<ipython-input-3-4f91a56f9da1>:29: UserWarning: To copy construct from a tensor, it is recommended to use sourceTensor.clone().detach() or sourceTensor.clone().detach().requires_grad_(True), rather than torch.tensor(sourceTensor).\n",
            "  targets = torch.tensor(targets, dtype=torch.long).to(device)\n",
            "<ipython-input-3-4f91a56f9da1>:29: UserWarning: To copy construct from a tensor, it is recommended to use sourceTensor.clone().detach() or sourceTensor.clone().detach().requires_grad_(True), rather than torch.tensor(sourceTensor).\n",
            "  targets = torch.tensor(targets, dtype=torch.long).to(device)\n",
            "<ipython-input-3-4f91a56f9da1>:29: UserWarning: To copy construct from a tensor, it is recommended to use sourceTensor.clone().detach() or sourceTensor.clone().detach().requires_grad_(True), rather than torch.tensor(sourceTensor).\n",
            "  targets = torch.tensor(targets, dtype=torch.long).to(device)\n",
            "<ipython-input-3-4f91a56f9da1>:29: UserWarning: To copy construct from a tensor, it is recommended to use sourceTensor.clone().detach() or sourceTensor.clone().detach().requires_grad_(True), rather than torch.tensor(sourceTensor).\n",
            "  targets = torch.tensor(targets, dtype=torch.long).to(device)\n",
            "<ipython-input-3-4f91a56f9da1>:29: UserWarning: To copy construct from a tensor, it is recommended to use sourceTensor.clone().detach() or sourceTensor.clone().detach().requires_grad_(True), rather than torch.tensor(sourceTensor).\n",
            "  targets = torch.tensor(targets, dtype=torch.long).to(device)\n",
            "<ipython-input-3-4f91a56f9da1>:29: UserWarning: To copy construct from a tensor, it is recommended to use sourceTensor.clone().detach() or sourceTensor.clone().detach().requires_grad_(True), rather than torch.tensor(sourceTensor).\n",
            "  targets = torch.tensor(targets, dtype=torch.long).to(device)\n",
            "<ipython-input-3-4f91a56f9da1>:29: UserWarning: To copy construct from a tensor, it is recommended to use sourceTensor.clone().detach() or sourceTensor.clone().detach().requires_grad_(True), rather than torch.tensor(sourceTensor).\n",
            "  targets = torch.tensor(targets, dtype=torch.long).to(device)\n",
            "<ipython-input-3-4f91a56f9da1>:29: UserWarning: To copy construct from a tensor, it is recommended to use sourceTensor.clone().detach() or sourceTensor.clone().detach().requires_grad_(True), rather than torch.tensor(sourceTensor).\n",
            "  targets = torch.tensor(targets, dtype=torch.long).to(device)\n",
            "<ipython-input-3-4f91a56f9da1>:29: UserWarning: To copy construct from a tensor, it is recommended to use sourceTensor.clone().detach() or sourceTensor.clone().detach().requires_grad_(True), rather than torch.tensor(sourceTensor).\n",
            "  targets = torch.tensor(targets, dtype=torch.long).to(device)\n",
            "<ipython-input-3-4f91a56f9da1>:29: UserWarning: To copy construct from a tensor, it is recommended to use sourceTensor.clone().detach() or sourceTensor.clone().detach().requires_grad_(True), rather than torch.tensor(sourceTensor).\n",
            "  targets = torch.tensor(targets, dtype=torch.long).to(device)\n"
          ]
        },
        {
          "output_type": "stream",
          "name": "stdout",
          "text": [
            "Evaluation of model 20 done!\n",
            "Accuracy Matrix (Rows: Models f1 to f20, Columns: Held-out datasets D1 to D20):\n",
            "99.96\t\n",
            "99.92\t87.40\t\n",
            "99.92\t87.44\t88.04\t\n",
            "99.84\t87.68\t88.32\t88.12\t\n",
            "99.72\t87.56\t88.24\t88.40\t87.72\t\n",
            "99.64\t87.84\t88.20\t88.52\t88.04\t87.68\t\n",
            "99.44\t88.12\t88.04\t88.48\t87.96\t87.76\t87.16\t\n",
            "99.36\t88.16\t88.20\t88.64\t88.12\t87.80\t87.24\t88.16\t\n",
            "99.12\t88.40\t87.96\t88.52\t88.00\t87.72\t87.40\t88.40\t87.56\t\n",
            "99.08\t88.36\t87.88\t88.48\t87.92\t87.68\t87.44\t88.32\t87.60\t88.36\t\n",
            "98.88\t88.44\t88.04\t88.84\t88.00\t87.88\t87.56\t88.32\t87.40\t88.64\t74.72\t\n",
            "98.52\t88.44\t88.44\t89.00\t88.32\t87.96\t87.68\t88.84\t87.64\t88.68\t75.00\t63.28\t\n",
            "98.24\t88.40\t88.56\t88.92\t88.44\t88.00\t87.84\t88.76\t87.56\t88.72\t75.00\t63.20\t77.72\t\n",
            "97.92\t88.28\t88.52\t88.68\t88.40\t87.96\t87.88\t88.64\t87.72\t88.56\t75.04\t63.08\t77.72\t91.24\t\n",
            "97.64\t88.16\t88.72\t88.76\t88.40\t87.88\t88.00\t88.68\t87.48\t88.68\t74.88\t63.04\t77.44\t91.12\t86.72\t\n",
            "97.40\t88.24\t88.84\t88.84\t88.36\t87.88\t88.20\t88.68\t87.84\t88.72\t75.12\t63.08\t77.44\t91.08\t86.72\t72.48\t\n",
            "97.12\t88.32\t88.76\t88.88\t88.40\t87.84\t88.12\t88.64\t87.68\t88.60\t74.96\t63.44\t77.32\t91.04\t86.60\t72.64\t86.44\t\n",
            "96.56\t88.40\t88.84\t88.84\t88.52\t88.04\t88.28\t88.60\t87.72\t88.56\t75.00\t63.68\t77.20\t91.20\t86.64\t72.36\t86.64\t74.64\t\n",
            "96.16\t88.36\t88.96\t88.92\t88.80\t88.12\t88.20\t88.76\t87.68\t88.64\t75.08\t64.04\t77.24\t91.20\t86.84\t72.68\t86.84\t74.68\t68.88\t\n",
            "95.72\t88.16\t88.84\t89.00\t88.88\t88.20\t88.28\t88.88\t87.92\t88.88\t74.88\t64.04\t77.08\t91.16\t86.84\t72.92\t86.80\t74.48\t68.80\t69.04\t\n"
          ]
        }
      ],
      "source": [
        "import numpy as np\n",
        "import torch\n",
        "from sklearn.metrics import accuracy_score\n",
        "import pickle\n",
        "\n",
        "# Setting random seed for getting same accuracy matrix every time\n",
        "seed = 45\n",
        "np.random.seed(seed)\n",
        "torch.manual_seed(seed)\n",
        "torch.cuda.manual_seed(seed)\n",
        "torch.cuda.manual_seed_all(seed)\n",
        "\n",
        "# Function to print accuracy matrix\n",
        "def print_accuracy_matrix(accuracy_matrix):\n",
        "    n = len(accuracy_matrix)\n",
        "    m = len(accuracy_matrix[0])\n",
        "    for i in range(n):\n",
        "        for j in range(i+1):\n",
        "            print(f\"{accuracy_matrix[i][j]:.2f}\", end=\"\\t\")\n",
        "        print()\n",
        "\n",
        "# Function to load data\n",
        "def load_data(file_path, device):\n",
        "    with open(file_path, 'rb') as f:\n",
        "        data = pickle.load(f)\n",
        "    features = data['features'] #storing features\n",
        "    if 'targets' in data:\n",
        "        targets = data['targets'] #storing targets\n",
        "        targets = torch.tensor(targets, dtype=torch.long).to(device)\n",
        "    else:\n",
        "        targets = None # targets is None if data dont have targets\n",
        "    features = torch.tensor(features, dtype=torch.float32).to(device)\n",
        "    return features, targets\n",
        "\n",
        "\n",
        "def class_weighted_clustering(features, prototypes, cov_matrices, num_classes=10):\n",
        "    weights = []\n",
        "    if len(prototypes) == 0:  # if there are no prototypes return features.shape[0] of ones\n",
        "      return torch.ones(features.shape[0])\n",
        "    for feature in features:\n",
        "        distances = []\n",
        "        for i in range(num_classes):\n",
        "            diff = feature - prototypes[i]\n",
        "            mah_dist = torch.sqrt(diff.T @ cov_matrices[i] @ diff)\n",
        "            distances.append(mah_dist)\n",
        "        # The weight is calculated based on the distance from the prototype/mean more the distance less the weight and viceversa\n",
        "        weights.append(1 / (1 + torch.min(torch.stack(distances)) ** 2))\n",
        "    return torch.tensor(weights)\n",
        "\n",
        "# Initial LwP model training function using hard LWP model i.e each point belong to 1 class dont consider probability of belonging to other class\n",
        "def train_lwp_hard_with_weights(features, targets, regularization=1e-2, prototype_smoothing=0.2, num_classes=10):\n",
        "    num_samples = features.shape[0]\n",
        "    prototypes = []   #storing prototype/mean of each class\n",
        "    cov_matrices = []  #storing covariance of each class\n",
        "    global_mean = features.mean(axis=0) # calculating global mean\n",
        "\n",
        "\n",
        "    class_weights = class_weighted_clustering(features, prototypes=[], cov_matrices=[], num_classes=num_classes)\n",
        "\n",
        "    for i in range(num_classes):\n",
        "        # Add Gaussian noise to the features of each class\n",
        "        class_features = features[targets == i]\n",
        "        noisy_class_features = class_features + torch.normal(0, 0.1, size=class_features.shape).to(features.device)\n",
        "\n",
        "        # smoothing the prototype with global mean\n",
        "        prototype = (1 - prototype_smoothing) * noisy_class_features.mean(axis=0) + prototype_smoothing * global_mean\n",
        "        prototypes.append(prototype)\n",
        "\n",
        "        # covariance matrix regularizing\n",
        "        cov_matrix = torch.cov(noisy_class_features.T) + regularization * torch.eye(class_features.shape[1]).to(features.device)\n",
        "        cov_matrices.append(torch.inverse(cov_matrix))\n",
        "\n",
        "    #calculate class weights after updation of the protypes and covariance matrices\n",
        "    class_weights = class_weighted_clustering(features, prototypes=torch.stack(prototypes), cov_matrices=cov_matrices, num_classes=num_classes)\n",
        "\n",
        "    return torch.stack(prototypes), cov_matrices, class_weights\n",
        "\n",
        "# LwP model training function with soft clustering and progressive prototypes averaging i.e each points have probability of beloning to each class\n",
        "def train_lwp_soft_with_weights(features, prev_prototypes, prev_cov_matrices, alpha=0.5, num_classes=10):\n",
        "    device = features.device\n",
        "    prototypes = []\n",
        "    cov_matrices = []\n",
        "\n",
        "    # Compute soft assignments z_nk for each data point and each class\n",
        "    class_weights = class_weighted_clustering(features, prototypes=prev_prototypes, cov_matrices=prev_cov_matrices, num_classes=num_classes)\n",
        "\n",
        "    class_weights = class_weights.to(device)\n",
        "\n",
        "    # Compute soft assignments z_nk for each data point and each cluster\n",
        "    soft_assignments = torch.zeros((features.shape[0], num_classes)).to(device)\n",
        "    epsilon = 1e-12   # small value is taken to avoid division by zero error\n",
        "\n",
        "    for k in range(num_classes):\n",
        "        distances = torch.norm(features - prev_prototypes[k], dim=1) ** 2\n",
        "        soft_assignments[:, k] = torch.exp(-distances)\n",
        "\n",
        "    # add epsilon to soft_assignment_sum to avoid division by zero error\n",
        "    soft_assignments_sum = soft_assignments.sum(axis=1, keepdim=True) + epsilon\n",
        "    soft_assignments /= soft_assignments_sum\n",
        "\n",
        "    for k in range(num_classes):\n",
        "        # Update prototype (mean) with soft assignments\n",
        "        weighted_sum = torch.sum(soft_assignments[:, k][:, None] * features, axis=0) * class_weights.view(-1, 1)\n",
        "        total_weight = torch.sum(soft_assignments[:, k] * class_weights)\n",
        "\n",
        "        # check whether total_weight > 0 or not\n",
        "        if total_weight > 0:\n",
        "            prototype = weighted_sum / total_weight\n",
        "        else:\n",
        "            # If total_weight is 0 use previous protype or use mean of features based on availability of prev_prototypes\n",
        "            prototype = prev_prototypes[k] if prev_prototypes is not None else features.mean(axis=0)\n",
        "\n",
        "        # update prototype based on given alpha value new prototype is weighted sum of current prototype and previous prototype\n",
        "        prototype = alpha * prototype + (1 - alpha) * prev_prototypes[k]\n",
        "        prototypes.append(prototype)\n",
        "\n",
        "        # update covariance matrix with soft assignments\n",
        "        cov_matrix = torch.zeros((features.shape[1], features.shape[1])).to(device)\n",
        "        for n in range(features.shape[0]):\n",
        "            diff = (features[n] - prototype).view(-1, 1)\n",
        "            cov_matrix += soft_assignments[n, k] * (diff @ diff.T) * class_weights[n]\n",
        "        if total_weight > 0:\n",
        "            cov_matrix /= total_weight\n",
        "        else:\n",
        "            cov_matrix = torch.cov(features.T) + torch.eye(features.shape[1]).to(device)\n",
        "\n",
        "        # update covariance matrix based on given alpha values new covariance matrix is weighted sum of current covariance matrix and previous covariance matrix\n",
        "        cov_matrix = alpha * cov_matrix + (1 - alpha) * torch.inverse(prev_cov_matrices[k])\n",
        "        cov_matrices.append(torch.inverse(cov_matrix + torch.eye(cov_matrix.shape[0]).to(device)))  #adding small value for stability purpose\n",
        "\n",
        "    return torch.stack(prototypes), cov_matrices\n",
        "\n",
        "\n",
        "\n",
        "#prediction function\n",
        "def predict_lwp(features, prototypes, cov_matrices):\n",
        "    predictions = []   # list to store predictions\n",
        "    for feature in features:\n",
        "        distances = []  # list to store distance with respect to each class\n",
        "        for i in range(len(prototypes)):\n",
        "            diff = feature - prototypes[i]\n",
        "            mah_dist = torch.sqrt(diff.T @ cov_matrices[i] @ diff)   # calculating mahalanobis distance\n",
        "            distances.append(mah_dist)\n",
        "        predicted_class = torch.argmin(torch.tensor(distances))  #gives class which has less distance to the given feature\n",
        "        predictions.append(predicted_class.item())\n",
        "    return predictions # returning predictions\n",
        "\n",
        "# Paths for datasets\n",
        "dataset_paths = [fr'gdrive/My Drive/miniproject2/dataset/Extracted_Features_Part_One/extracted_features_{i}_data.tar.pkl' for i in range(1, 21)]\n",
        "heldout_paths = [fr'gdrive/My Drive/miniproject2/dataset/Extracted_Features_Part_One/extracted_features_{i}_data.tar.pkl' for i in range(1, 21)]\n",
        "\n",
        "models = []  # a list to store means and covariance matrices for each model\n",
        "accuracy_matrix = np.zeros((20, 20))    # a matrix to store accuracy of each model vs heldout datasets\n",
        "\n",
        "\n",
        "device = torch.device(\"cuda\" if torch.cuda.is_available() else \"cpu\")\n",
        "\n",
        "# Training first model f1 on D1 using hard classification\n",
        "features, targets = load_data(dataset_paths[0], device)\n",
        "#get prototypes and covariance matrix for model 1 from train_lwp_hard function\n",
        "prototypes, cov_matrices, _ = train_lwp_hard_with_weights(features, targets, regularization=1, prototype_smoothing=0.2)\n",
        "models.append((prototypes, cov_matrices))  #appending means and covariance matrix to models list\n",
        "\n",
        "\n",
        "#Updating models f2 to f20 using soft classification\n",
        "for i in range(1, 20):\n",
        "    features, targets = load_data(dataset_paths[i], device) #loading features\n",
        "    # get prototypes and covariance matrices for model i+1 from train_lwp_soft function\n",
        "    prototypes, cov_matrices = train_lwp_soft_with_weights(features, prev_prototypes=models[-1][0], prev_cov_matrices=models[-1][1], alpha=0.1)\n",
        "    #appending means and covariance matrix to models list\n",
        "    models.append((prototypes, cov_matrices))\n",
        "    print(f\"Update of model done using Dataset-{i+1}\")\n",
        "\n",
        "# Evaluation of models on held out datasets\n",
        "for i, (prototypes, cov_matrices) in enumerate(models):  #taking  model f1 to f20 iteratively\n",
        "    for j in range(i + 1):  #taking data set 1 to data set i for calculating goodness of i th  model on them\n",
        "        heldout_features, heldout_targets = load_data(heldout_paths[j], device) #taking heldout features and targets\n",
        "        heldout_predictions = predict_lwp(heldout_features, prototypes, cov_matrices) #get predictions from predict_lwp function\n",
        "        accuracy = accuracy_score(heldout_targets.cpu().numpy(), heldout_predictions)\n",
        "        accuracy_matrix[i, j] = accuracy * 100    # storing accuracy in terms of 0-100 range\n",
        "    print(f\"Evaluation of model {i+1} done!\")\n",
        "\n",
        "# Print accuracy matrix\n",
        "print(\"Accuracy Matrix (Rows: Models f1 to f20, Columns: Held-out datasets D1 to D20):\")\n",
        "print_accuracy_matrix(accuracy_matrix)\n"
      ]
    },
    {
      "cell_type": "code",
      "execution_count": null,
      "id": "33ec5d79-f44c-44aa-9ae4-d4fb30012515",
      "metadata": {
        "id": "33ec5d79-f44c-44aa-9ae4-d4fb30012515"
      },
      "outputs": [],
      "source": []
    }
  ],
  "metadata": {
    "kernelspec": {
      "display_name": "Python 3",
      "name": "python3"
    },
    "language_info": {
      "codemirror_mode": {
        "name": "ipython",
        "version": 3
      },
      "file_extension": ".py",
      "mimetype": "text/x-python",
      "name": "python",
      "nbconvert_exporter": "python",
      "pygments_lexer": "ipython3",
      "version": "3.11.7"
    },
    "colab": {
      "provenance": [],
      "gpuType": "T4"
    },
    "accelerator": "GPU"
  },
  "nbformat": 4,
  "nbformat_minor": 5
}